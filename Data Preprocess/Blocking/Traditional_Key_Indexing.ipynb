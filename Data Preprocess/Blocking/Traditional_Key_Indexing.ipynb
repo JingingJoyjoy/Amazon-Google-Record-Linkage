{
 "cells": [
  {
   "cell_type": "code",
   "execution_count": 1,
   "metadata": {},
   "outputs": [],
   "source": [
    "import pandas as pd\n",
    "import numpy as np\n",
    "import recordlinkage "
   ]
  },
  {
   "cell_type": "code",
   "execution_count": 2,
   "metadata": {},
   "outputs": [],
   "source": [
    "amazon_train = pd.read_csv(\"preprocessed_amazon_train.csv\", delimiter = \",\")\n",
    "google_train = pd.read_csv(\"preprocessed_google_train.csv\", delimiter = \",\")\n",
    "amazon_test = pd.read_csv(\"preprocessed_amazon_test.csv\", delimiter = \",\")\n",
    "google_test = pd.read_csv(\"preprocessed_google_test.csv\", delimiter = \",\")\n",
    "train_perfect_matching = pd.read_csv(\"preprocessed_train_perfect_matching.csv\", delimiter = \",\")\n",
    "test_perfect_matching = pd.read_csv(\"preprocessed_test_perfect_matching.csv\", delimiter = \",\")"
   ]
  },
  {
   "cell_type": "code",
   "execution_count": 21,
   "metadata": {},
   "outputs": [],
   "source": [
    "key_indexer_1 = recordlinkage.Index()\n",
    "key_indexer_1.block(left_on=\"name\",right_on=\"name\")\n",
    "block_index_1 = key_indexer_1.index(amazon_train,google_train)"
   ]
  },
  {
   "cell_type": "code",
   "execution_count": 22,
   "metadata": {},
   "outputs": [
    {
     "name": "stdout",
     "output_type": "stream",
     "text": [
      "119\n"
     ]
    }
   ],
   "source": [
    "block_amazon_id = []\n",
    "block_google_id = []\n",
    "# get the amazon id from blocking\n",
    "for i in range(0,len(block_index_1)):\n",
    "    block_amazon_id.append(amazon_train[\"idAmazon\"][block_index_1[i][0]])\n",
    "# get the google id from blocking\n",
    "for i in range(0,len(block_index_1)):\n",
    "    block_google_id.append(google_train[\"idGoogle\"][block_index_1[i][1]])  \n",
    "    \n",
    "block_potential_matching_1 = pd.DataFrame({\"idAmazon\":block_amazon_id,\"idGoogle\":block_google_id})\n",
    "print(len(block_potential_matching_1))"
   ]
  },
  {
   "cell_type": "code",
   "execution_count": 23,
   "metadata": {},
   "outputs": [],
   "source": [
    "# Generate the labels\n",
    "def negatives_generator(perfect_matching,potential_matching):\n",
    "    # check the quality of blcoking\n",
    "    auxiliary = pd.merge(perfect_matching,potential_matching, on=[\"idAmazon\",\"idGoogle\"], how=\"outer\", indicator=True)\n",
    "    print(\"true positve/recall: \"+str(len(*np.where(auxiliary[\"_merge\"]==\"both\"))))\n",
    "    print(\"false positive/- samples: \"+str(len(*np.where(auxiliary[\"_merge\"]==\"right_only\"))))\n",
    "    print(\"false negative/+ lost: \"+str(len(*np.where(auxiliary[\"_merge\"]==\"left_only\")))+\"\\n\")\n",
    "    # labelling\n",
    "    auxiliary[\"label\"] = np.where(auxiliary[\"_merge\"]==\"both\",1,0) \n",
    "    print(\"No. of positives: \"+str(len(*np.where(auxiliary[\"label\"]==1))))\n",
    "    print(\"No. of negatives: \"+str(len(*np.where(auxiliary[\"label\"]==0)))+\"\\n\")\n",
    "    auxiliary = auxiliary[[\"idAmazon\",\"idGoogle\",\"label\"]]\n",
    "#     auxiliary['similarity'].fillna(1,inplace=True) \n",
    "    return auxiliary"
   ]
  },
  {
   "cell_type": "code",
   "execution_count": 28,
   "metadata": {},
   "outputs": [
    {
     "name": "stdout",
     "output_type": "stream",
     "text": [
      "true positve/recall: 57\n",
      "false positive/- samples: 62\n",
      "false negative/+ lost: 1009\n",
      "\n",
      "No. of positives: 57\n",
      "No. of negatives: 1071\n",
      "\n"
     ]
    }
   ],
   "source": [
    "# Label\n",
    "train_index_labels = negatives_generator(train_perfect_matching,block_potential_matching_1)\n",
    "#[similarity, idAmazon, idGoogle, label]"
   ]
  },
  {
   "cell_type": "code",
   "execution_count": 18,
   "metadata": {},
   "outputs": [],
   "source": [
    "amazon_train[\"name_manu\"] = amazon_train[\"name\"]+amazon_train[\"manufacturer\"]\n",
    "google_train[\"name_manu\"] = google_train[\"name\"]+google_train[\"manufacturer\"]"
   ]
  },
  {
   "cell_type": "code",
   "execution_count": 20,
   "metadata": {},
   "outputs": [],
   "source": [
    "key_indexer_2 = recordlinkage.Index()\n",
    "key_indexer_2.block(left_on=\"name_manu\",right_on=\"name_manu\")\n",
    "block_index_2 = key_indexer_2.index(amazon_train,google_train)"
   ]
  },
  {
   "cell_type": "code",
   "execution_count": 26,
   "metadata": {},
   "outputs": [
    {
     "name": "stdout",
     "output_type": "stream",
     "text": [
      "4\n"
     ]
    }
   ],
   "source": [
    "block_amazon_id = []\n",
    "block_google_id = []\n",
    "# get the amazon id from blocking\n",
    "for i in range(0,len(block_index_2)):\n",
    "    block_amazon_id.append(amazon_train[\"idAmazon\"][block_index_2[i][0]])\n",
    "# get the google id from blocking\n",
    "for i in range(0,len(block_index_2)):\n",
    "    block_google_id.append(google_train[\"idGoogle\"][block_index_2[i][1]])  \n",
    "    \n",
    "block_potential_matching_2 = pd.DataFrame({\"idAmazon\":block_amazon_id,\"idGoogle\":block_google_id})\n",
    "print(len(block_potential_matching_2))"
   ]
  },
  {
   "cell_type": "code",
   "execution_count": 29,
   "metadata": {},
   "outputs": [
    {
     "name": "stdout",
     "output_type": "stream",
     "text": [
      "true positve/recall: 4\n",
      "false positive/- samples: 0\n",
      "false negative/+ lost: 1062\n",
      "\n",
      "No. of positives: 4\n",
      "No. of negatives: 1062\n",
      "\n"
     ]
    }
   ],
   "source": [
    "# Label\n",
    "train_index_labels = negatives_generator(train_perfect_matching,block_potential_matching_2)\n",
    "#[similarity, idAmazon, idGoogle, label]"
   ]
  },
  {
   "cell_type": "code",
   "execution_count": null,
   "metadata": {},
   "outputs": [],
   "source": []
  }
 ],
 "metadata": {
  "kernelspec": {
   "display_name": "Python 3",
   "language": "python",
   "name": "python3"
  },
  "language_info": {
   "codemirror_mode": {
    "name": "ipython",
    "version": 3
   },
   "file_extension": ".py",
   "mimetype": "text/x-python",
   "name": "python",
   "nbconvert_exporter": "python",
   "pygments_lexer": "ipython3",
   "version": "3.7.4"
  }
 },
 "nbformat": 4,
 "nbformat_minor": 2
}
