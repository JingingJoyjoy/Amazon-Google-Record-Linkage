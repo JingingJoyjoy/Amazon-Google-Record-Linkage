{
 "cells": [
  {
   "cell_type": "code",
   "execution_count": 1,
   "metadata": {},
   "outputs": [],
   "source": [
    "import pandas as pd\n",
    "import numpy as np"
   ]
  },
  {
   "cell_type": "code",
   "execution_count": 2,
   "metadata": {},
   "outputs": [],
   "source": [
    "amazon_train = pd.read_csv(\"preprocessed_amazon_train.csv\", delimiter = \",\")\n",
    "google_train = pd.read_csv(\"preprocessed_google_train.csv\", delimiter = \",\")\n",
    "amazon_test = pd.read_csv(\"preprocessed_amazon_test.csv\", delimiter = \",\")\n",
    "google_test = pd.read_csv(\"preprocessed_google_test.csv\", delimiter = \",\")\n",
    "train_perfect_matching = pd.read_csv(\"preprocessed_train_perfect_matching.csv\", delimiter = \",\")\n",
    "test_perfect_matching = pd.read_csv(\"preprocessed_test_perfect_matching.csv\", delimiter = \",\")"
   ]
  },
  {
   "cell_type": "code",
   "execution_count": 21,
   "metadata": {},
   "outputs": [],
   "source": [
    "# Calculate the jaccard distance\n",
    "def jaccard_similarity(str1,str2):\n",
    "    a = set(str1.split())\n",
    "    b = set(str2.split())\n",
    "    c = a.intersection(b)\n",
    "    jaccard_similarity = float(len(c)) / (len(a) + len(b) - len(c))\n",
    "    return jaccard_similarity"
   ]
  },
  {
   "cell_type": "code",
   "execution_count": 22,
   "metadata": {},
   "outputs": [],
   "source": [
    "# Get the distance matrix\n",
    "def similarity_matrix_generator(amazon_key,google_key):\n",
    "    similarity_matrix = np.zeros((len(amazon_key),len(google_key)))\n",
    "    for i in range(0,len(amazon_key)):\n",
    "        for j in range(0,len(google_key)):\n",
    "            similarity_matrix[i][j] = jaccard_similarity(amazon_key[i],google_key[j])\n",
    "    return similarity_matrix\n",
    "\n",
    "# Get the potential candidate\n",
    "def potential_matching(amazon_data,google_data,similarity_matrix,threshold):\n",
    "    candidate_index = np.where(similarity_matrix >threshold)\n",
    "    # retrieve index for each set\n",
    "    amazon_index = candidate_index[0]\n",
    "    google_index = candidate_index[1]\n",
    "    print(\"length of amazon index: \"+str(len(amazon_index)))\n",
    "    print(\"length of google index: \"+str(len(google_index)))\n",
    "    # retrieve id for each set\n",
    "    amazon_id = (amazon_data[\"idAmazon\"][amazon_index]).tolist()\n",
    "    google_id = (google_data[\"idGoogle\"][google_index]).tolist()\n",
    "    # calculate the similarity for each pair\n",
    "    similarity = []\n",
    "    for i in range(0,len(amazon_index)):\n",
    "         similarity.append(round(similarity_matrix[amazon_index[i]][google_index[i]],2))\n",
    "    # potential candidate\n",
    "    potential_pairs = pd.DataFrame({\"idAmazon\":amazon_id,\"idGoogle\":google_id,\"similarity\":similarity})\n",
    "    return potential_pairs\n",
    "\n",
    "# Generate the labels\n",
    "def negatives_generator(perfect_matching,potential_matching):\n",
    "    # check the quality of blcoking\n",
    "    auxiliary = pd.merge(perfect_matching,potential_matching, on=[\"idAmazon\",\"idGoogle\"], how=\"outer\", indicator=True)\n",
    "    print(\"true positve/recall: \"+str(len(*np.where(auxiliary[\"_merge\"]==\"both\"))))\n",
    "    print(\"false positive/- samples: \"+str(len(*np.where(auxiliary[\"_merge\"]==\"right_only\"))))\n",
    "    print(\"false negative/+ lost: \"+str(len(*np.where(auxiliary[\"_merge\"]==\"left_only\")))+\"\\n\")\n",
    "    # labelling\n",
    "    auxiliary[\"label\"] = np.where(auxiliary[\"_merge\"]==\"both\",1,0) \n",
    "    print(\"No. of positives: \"+str(len(*np.where(auxiliary[\"label\"]==1))))\n",
    "    print(\"No. of negatives: \"+str(len(*np.where(auxiliary[\"label\"]==0)))+\"\\n\")\n",
    "    auxiliary = auxiliary[[\"similarity\",\"idAmazon\",\"idGoogle\",\"label\"]]\n",
    "    auxiliary['similarity'].fillna(1,inplace=True) \n",
    "    return auxiliary"
   ]
  },
  {
   "cell_type": "code",
   "execution_count": 23,
   "metadata": {},
   "outputs": [],
   "source": [
    "# jaccard similarity matrix for training sets\n",
    "train_jac_sim = similarity_matrix_generator(amazon_train[\"name\"],google_train[\"name\"])\n",
    "# jaccard similarity matrix for testing sets\n",
    "test_jac_sim = similarity_matrix_generator(amazon_test[\"name\"],google_test[\"name\"])"
   ]
  },
  {
   "cell_type": "code",
   "execution_count": 36,
   "metadata": {},
   "outputs": [
    {
     "name": "stdout",
     "output_type": "stream",
     "text": [
      "length of amazon index: 843\n",
      "length of google index: 843\n",
      "No. of potential pairs in training set: 843\n",
      "length of amazon index: 124\n",
      "length of google index: 124\n",
      "No. of potential pairs in testing set: 124\n"
     ]
    }
   ],
   "source": [
    "# potential candidates for training sets\n",
    "train_potential_matching = potential_matching(amazon_train,google_train,train_jac_sim,0.5)\n",
    "print(\"No. of potential pairs in training set: \"+str(len(train_potential_matching)))\n",
    "# potential candidates for testing sets\n",
    "test_potential_matching = potential_matching(amazon_test,google_test,test_jac_sim,0.5)\n",
    "print(\"No. of potential pairs in testing set: \"+str(len(test_potential_matching)))\n",
    "# [idAmazon, idGoogle, similarity]"
   ]
  },
  {
   "cell_type": "code",
   "execution_count": 37,
   "metadata": {},
   "outputs": [
    {
     "name": "stdout",
     "output_type": "stream",
     "text": [
      "true positve/recall: 413\n",
      "false positive/- samples: 430\n",
      "false negative/+ lost: 653\n",
      "\n",
      "No. of positives: 413\n",
      "No. of negatives: 1083\n",
      "\n",
      "true positve/recall: 103\n",
      "false positive/- samples: 21\n",
      "false negative/+ lost: 131\n",
      "\n",
      "No. of positives: 103\n",
      "No. of negatives: 152\n",
      "\n"
     ]
    }
   ],
   "source": [
    "# Label\n",
    "train_index_labels = negatives_generator(train_perfect_matching,train_potential_matching)\n",
    "# train_index_labels\n",
    "test_index_labels = negatives_generator(test_perfect_matching,test_potential_matching)\n",
    "#[similarity, idAmazon, idGoogle, label]"
   ]
  },
  {
   "cell_type": "markdown",
   "metadata": {},
   "source": [
    "### Training Set"
   ]
  },
  {
   "cell_type": "code",
   "execution_count": 43,
   "metadata": {},
   "outputs": [],
   "source": [
    "# Threshold 0.1, 0.2, 0.3, 0.4, 0.5\n",
    "total_pairs = len(amazon_train)*len(google_train)\n",
    "total_generated = np.array([61177,9877,4124,1904,843])\n",
    "true_positive = np.array([1045,953,821,641,413])\n",
    "false_positive = np.array([60132,8924,3303,1263,430])\n",
    "false_negative = np.array([21,113,245,425,653])"
   ]
  },
  {
   "cell_type": "code",
   "execution_count": 59,
   "metadata": {},
   "outputs": [],
   "source": [
    "# Reduction Rate\n",
    "reduction_rate = 1 - total_generated/total_pairs\n",
    "# Pair Completeness\n",
    "recall = true_positive/(true_positive+false_negative)\n",
    "# pairs quality\n",
    "precision = true_positive/total_generated\n",
    "# harmonic_mean\n",
    "f = recall*precision/(recall+precision)"
   ]
  },
  {
   "cell_type": "code",
   "execution_count": 60,
   "metadata": {},
   "outputs": [
    {
     "name": "stdout",
     "output_type": "stream",
     "text": [
      "No. of total pairs: 2880444\n",
      "Reduction Rate: [0.97876126 0.99657101 0.99856828 0.99933899 0.99970734]\n",
      "Pair Completeness: [0.98030019 0.89399625 0.77016886 0.60131332 0.38742964]\n",
      "Pairs Quality: [0.01708158 0.09648679 0.19907856 0.33665966 0.48991696]\n",
      "Harmonic Mean: [0.01678904 0.08708764 0.15818882 0.21582492 0.21634364]\n"
     ]
    }
   ],
   "source": [
    "print(\"No. of total pairs: \"+str(total_pairs))\n",
    "print(\"Reduction Rate: \"+str(reduction_rate))\n",
    "print(\"Pair Completeness: \"+str(recall))\n",
    "print(\"Pairs Quality: \"+str(precision))\n",
    "print(\"Harmonic Mean: \"+str(f))"
   ]
  },
  {
   "cell_type": "code",
   "execution_count": 61,
   "metadata": {},
   "outputs": [
    {
     "data": {
      "text/html": [
       "<div>\n",
       "<style scoped>\n",
       "    .dataframe tbody tr th:only-of-type {\n",
       "        vertical-align: middle;\n",
       "    }\n",
       "\n",
       "    .dataframe tbody tr th {\n",
       "        vertical-align: top;\n",
       "    }\n",
       "\n",
       "    .dataframe thead th {\n",
       "        text-align: right;\n",
       "    }\n",
       "</style>\n",
       "<table border=\"1\" class=\"dataframe\">\n",
       "  <thead>\n",
       "    <tr style=\"text-align: right;\">\n",
       "      <th></th>\n",
       "      <th>threshold</th>\n",
       "      <th>reduction_rate</th>\n",
       "      <th>recall</th>\n",
       "      <th>precision</th>\n",
       "      <th>harmonic_mean</th>\n",
       "    </tr>\n",
       "  </thead>\n",
       "  <tbody>\n",
       "    <tr>\n",
       "      <td>0</td>\n",
       "      <td>0.1</td>\n",
       "      <td>0.978761</td>\n",
       "      <td>0.980300</td>\n",
       "      <td>0.017082</td>\n",
       "      <td>0.016789</td>\n",
       "    </tr>\n",
       "    <tr>\n",
       "      <td>1</td>\n",
       "      <td>0.2</td>\n",
       "      <td>0.996571</td>\n",
       "      <td>0.893996</td>\n",
       "      <td>0.096487</td>\n",
       "      <td>0.087088</td>\n",
       "    </tr>\n",
       "    <tr>\n",
       "      <td>2</td>\n",
       "      <td>0.3</td>\n",
       "      <td>0.998568</td>\n",
       "      <td>0.770169</td>\n",
       "      <td>0.199079</td>\n",
       "      <td>0.158189</td>\n",
       "    </tr>\n",
       "    <tr>\n",
       "      <td>3</td>\n",
       "      <td>0.4</td>\n",
       "      <td>0.999339</td>\n",
       "      <td>0.601313</td>\n",
       "      <td>0.336660</td>\n",
       "      <td>0.215825</td>\n",
       "    </tr>\n",
       "    <tr>\n",
       "      <td>4</td>\n",
       "      <td>0.5</td>\n",
       "      <td>0.999707</td>\n",
       "      <td>0.387430</td>\n",
       "      <td>0.489917</td>\n",
       "      <td>0.216344</td>\n",
       "    </tr>\n",
       "  </tbody>\n",
       "</table>\n",
       "</div>"
      ],
      "text/plain": [
       "   threshold  reduction_rate    recall  precision  harmonic_mean\n",
       "0        0.1        0.978761  0.980300   0.017082       0.016789\n",
       "1        0.2        0.996571  0.893996   0.096487       0.087088\n",
       "2        0.3        0.998568  0.770169   0.199079       0.158189\n",
       "3        0.4        0.999339  0.601313   0.336660       0.215825\n",
       "4        0.5        0.999707  0.387430   0.489917       0.216344"
      ]
     },
     "execution_count": 61,
     "metadata": {},
     "output_type": "execute_result"
    }
   ],
   "source": [
    "threshold = [0.1,0.2,0.3,0.4,0.5]\n",
    "jaccard_analysis = pd.DataFrame({\"threshold\":threshold, \"reduction_rate\":reduction_rate,\"recall\":recall,\"precision\":precision,\"harmonic_mean\":f})\n",
    "jaccard_analysis"
   ]
  },
  {
   "cell_type": "code",
   "execution_count": 62,
   "metadata": {},
   "outputs": [],
   "source": [
    "jaccard_analysis.to_csv(\"jaccard_analysis.csv\",index=False)"
   ]
  }
 ],
 "metadata": {
  "kernelspec": {
   "display_name": "Python 3",
   "language": "python",
   "name": "python3"
  },
  "language_info": {
   "codemirror_mode": {
    "name": "ipython",
    "version": 3
   },
   "file_extension": ".py",
   "mimetype": "text/x-python",
   "name": "python",
   "nbconvert_exporter": "python",
   "pygments_lexer": "ipython3",
   "version": "3.7.4"
  }
 },
 "nbformat": 4,
 "nbformat_minor": 2
}
