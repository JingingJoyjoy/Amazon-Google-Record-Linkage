{
 "cells": [
  {
   "cell_type": "code",
   "execution_count": 1,
   "metadata": {},
   "outputs": [],
   "source": [
    "import pandas as pd\n",
    "import numpy as np\n",
    "import matplotlib.pyplot as plt \n",
    "plt.rc(\"font\", size=14)\n",
    "import seaborn as sns\n",
    "sns.set(style=\"white\")\n",
    "sns.set(style=\"whitegrid\", color_codes=True)\n",
    "from sklearn import preprocessing\n",
    "from sklearn.utils import shuffle\n",
    "from sklearn.model_selection import train_test_split\n",
    "from sklearn.linear_model import LogisticRegression\n",
    "from sklearn.metrics import classification_report \n",
    "from sklearn.metrics import confusion_matrix\n",
    "from sklearn.metrics import precision_recall_curve, auc, roc_curve\n",
    "from sklearn.metrics import f1_score, recall_score"
   ]
  },
  {
   "cell_type": "markdown",
   "metadata": {},
   "source": [
    "## Read Data (tokenized)"
   ]
  },
  {
   "cell_type": "code",
   "execution_count": 2,
   "metadata": {},
   "outputs": [],
   "source": [
    "train_set = pd.read_csv(\"train_set.csv\")\n",
    "val_set = pd.read_csv(\"val_set.csv\")\n",
    "\n",
    "train_data = train_set.append([val_set], ignore_index=True)\n",
    "test_data = pd.read_csv(\"test_set.csv\")"
   ]
  },
  {
   "cell_type": "code",
   "execution_count": 3,
   "metadata": {},
   "outputs": [
    {
     "name": "stdout",
     "output_type": "stream",
     "text": [
      "There are 61198 training samples with 1045 positive matchings and 60153 negative samples.\n",
      "There are 3487 testing samples with 232 positive matchings and 3255 negative samples.\n"
     ]
    }
   ],
   "source": [
    "print(\"There are %s training samples\"%len(train_data),\"with %s positive matchings\"%len(*np.where(train_data[\"label\"]==1)),\"and %s negative samples.\"%len(*np.where(train_data[\"label\"]==0)))\n",
    "print(\"There are %s testing samples\"%len(test_data),\"with %s positive matchings\"%len(*np.where(test_data[\"label\"]==1)),\"and %s negative samples.\"%len(*np.where(test_data[\"label\"]==0)))"
   ]
  },
  {
   "cell_type": "code",
   "execution_count": 4,
   "metadata": {},
   "outputs": [
    {
     "data": {
      "text/html": [
       "<div>\n",
       "<style scoped>\n",
       "    .dataframe tbody tr th:only-of-type {\n",
       "        vertical-align: middle;\n",
       "    }\n",
       "\n",
       "    .dataframe tbody tr th {\n",
       "        vertical-align: top;\n",
       "    }\n",
       "\n",
       "    .dataframe thead th {\n",
       "        text-align: right;\n",
       "    }\n",
       "</style>\n",
       "<table border=\"1\" class=\"dataframe\">\n",
       "  <thead>\n",
       "    <tr style=\"text-align: right;\">\n",
       "      <th></th>\n",
       "      <th>similarity</th>\n",
       "      <th>label</th>\n",
       "      <th>amazon_name</th>\n",
       "      <th>google_name</th>\n",
       "      <th>amazon_description</th>\n",
       "      <th>google_description</th>\n",
       "      <th>amazon_info</th>\n",
       "      <th>google_info</th>\n",
       "      <th>price_diff</th>\n",
       "      <th>price_nan_indicator</th>\n",
       "    </tr>\n",
       "  </thead>\n",
       "  <tbody>\n",
       "    <tr>\n",
       "      <td>0</td>\n",
       "      <td>0.14</td>\n",
       "      <td>0</td>\n",
       "      <td>intervideo dvd copy express</td>\n",
       "      <td>fogware hyb art dvd</td>\n",
       "      <td>dvd copy express gives fast dvdcopying filecon...</td>\n",
       "      <td>works ipod g ipod nano windows windows® xp dvd...</td>\n",
       "      <td>intervideo dvd copy express dvd copy express g...</td>\n",
       "      <td>fogware hyb art dvd works ipod g ipod nano win...</td>\n",
       "      <td>0.266756</td>\n",
       "      <td>0</td>\n",
       "    </tr>\n",
       "    <tr>\n",
       "      <td>1</td>\n",
       "      <td>0.20</td>\n",
       "      <td>0</td>\n",
       "      <td>instant immersion spanish</td>\n",
       "      <td>spanish know deluxe</td>\n",
       "      <td>instant immersion version moves beginner inter...</td>\n",
       "      <td>spanish learning everyone know manages learnin...</td>\n",
       "      <td>instant immersion spanish instant immersion ve...</td>\n",
       "      <td>spanish know deluxe spanish learning everyone ...</td>\n",
       "      <td>0.634878</td>\n",
       "      <td>0</td>\n",
       "    </tr>\n",
       "  </tbody>\n",
       "</table>\n",
       "</div>"
      ],
      "text/plain": [
       "   similarity  label                  amazon_name          google_name  \\\n",
       "0        0.14      0  intervideo dvd copy express  fogware hyb art dvd   \n",
       "1        0.20      0    instant immersion spanish  spanish know deluxe   \n",
       "\n",
       "                                  amazon_description  \\\n",
       "0  dvd copy express gives fast dvdcopying filecon...   \n",
       "1  instant immersion version moves beginner inter...   \n",
       "\n",
       "                                  google_description  \\\n",
       "0  works ipod g ipod nano windows windows® xp dvd...   \n",
       "1  spanish learning everyone know manages learnin...   \n",
       "\n",
       "                                         amazon_info  \\\n",
       "0  intervideo dvd copy express dvd copy express g...   \n",
       "1  instant immersion spanish instant immersion ve...   \n",
       "\n",
       "                                         google_info  price_diff  \\\n",
       "0  fogware hyb art dvd works ipod g ipod nano win...    0.266756   \n",
       "1  spanish know deluxe spanish learning everyone ...    0.634878   \n",
       "\n",
       "   price_nan_indicator  \n",
       "0                    0  \n",
       "1                    0  "
      ]
     },
     "execution_count": 4,
     "metadata": {},
     "output_type": "execute_result"
    }
   ],
   "source": [
    "train_data.head(2)"
   ]
  },
  {
   "cell_type": "code",
   "execution_count": 5,
   "metadata": {},
   "outputs": [
    {
     "data": {
      "text/html": [
       "<div>\n",
       "<style scoped>\n",
       "    .dataframe tbody tr th:only-of-type {\n",
       "        vertical-align: middle;\n",
       "    }\n",
       "\n",
       "    .dataframe tbody tr th {\n",
       "        vertical-align: top;\n",
       "    }\n",
       "\n",
       "    .dataframe thead th {\n",
       "        text-align: right;\n",
       "    }\n",
       "</style>\n",
       "<table border=\"1\" class=\"dataframe\">\n",
       "  <thead>\n",
       "    <tr style=\"text-align: right;\">\n",
       "      <th></th>\n",
       "      <th>similarity</th>\n",
       "      <th>label</th>\n",
       "      <th>amazon_name</th>\n",
       "      <th>google_name</th>\n",
       "      <th>amazon_description</th>\n",
       "      <th>google_description</th>\n",
       "      <th>amazon_info</th>\n",
       "      <th>google_info</th>\n",
       "      <th>price_diff</th>\n",
       "      <th>price_nan_indicator</th>\n",
       "    </tr>\n",
       "  </thead>\n",
       "  <tbody>\n",
       "    <tr>\n",
       "      <td>0</td>\n",
       "      <td>1.00</td>\n",
       "      <td>1</td>\n",
       "      <td>clickart premier image pack dvdrom</td>\n",
       "      <td>clickart premier image pack dvdrom</td>\n",
       "      <td></td>\n",
       "      <td>massive collection images fonts design needs o...</td>\n",
       "      <td>clickart premier image pack dvdrom</td>\n",
       "      <td>clickart premier image pack dvdrom massive col...</td>\n",
       "      <td>1.00000</td>\n",
       "      <td>1</td>\n",
       "    </tr>\n",
       "    <tr>\n",
       "      <td>1</td>\n",
       "      <td>0.67</td>\n",
       "      <td>1</td>\n",
       "      <td>mias math adventure time</td>\n",
       "      <td>kutoka interactive mias math adventure time</td>\n",
       "      <td>mias math adventure time children help mia sav...</td>\n",
       "      <td>mias math adventure tells captivating story ed...</td>\n",
       "      <td>mias math adventure time mias math adventure t...</td>\n",
       "      <td>kutoka interactive mias math adventure time mi...</td>\n",
       "      <td>0.20008</td>\n",
       "      <td>0</td>\n",
       "    </tr>\n",
       "  </tbody>\n",
       "</table>\n",
       "</div>"
      ],
      "text/plain": [
       "   similarity  label                         amazon_name  \\\n",
       "0        1.00      1  clickart premier image pack dvdrom   \n",
       "1        0.67      1            mias math adventure time   \n",
       "\n",
       "                                   google_name  \\\n",
       "0           clickart premier image pack dvdrom   \n",
       "1  kutoka interactive mias math adventure time   \n",
       "\n",
       "                                  amazon_description  \\\n",
       "0                                                      \n",
       "1  mias math adventure time children help mia sav...   \n",
       "\n",
       "                                  google_description  \\\n",
       "0  massive collection images fonts design needs o...   \n",
       "1  mias math adventure tells captivating story ed...   \n",
       "\n",
       "                                         amazon_info  \\\n",
       "0               clickart premier image pack dvdrom     \n",
       "1  mias math adventure time mias math adventure t...   \n",
       "\n",
       "                                         google_info  price_diff  \\\n",
       "0  clickart premier image pack dvdrom massive col...     1.00000   \n",
       "1  kutoka interactive mias math adventure time mi...     0.20008   \n",
       "\n",
       "   price_nan_indicator  \n",
       "0                    1  \n",
       "1                    0  "
      ]
     },
     "execution_count": 5,
     "metadata": {},
     "output_type": "execute_result"
    }
   ],
   "source": [
    "test_data.head(2)"
   ]
  },
  {
   "cell_type": "markdown",
   "metadata": {},
   "source": [
    "## Text to Value"
   ]
  },
  {
   "cell_type": "code",
   "execution_count": 6,
   "metadata": {},
   "outputs": [],
   "source": [
    "# Calculate the jaccard distance\n",
    "def jaccard_distance(str1,str2):\n",
    "    if not str1.strip() or not str2.strip():\n",
    "        return 0\n",
    "    else:\n",
    "        a = set(str1.split())\n",
    "        b = set(str2.split())\n",
    "        c = a.intersection(b)\n",
    "        jaccard_dist = float(len(c)) / (len(a) + len(b) - len(c))\n",
    "        return jaccard_dist"
   ]
  },
  {
   "cell_type": "code",
   "execution_count": 7,
   "metadata": {},
   "outputs": [],
   "source": [
    "train_name_sim = [0]*len(train_data)\n",
    "train_desc_sim = [0]*len(train_data)\n",
    "train_name_sim = train_data.apply(lambda x: jaccard_distance(x[\"amazon_name\"],x[\"google_name\"]), axis=1)\n",
    "train_desc_sim = train_data.apply(lambda x: jaccard_distance(x[\"amazon_description\"],x[\"google_description\"]), axis=1)\n",
    "\n",
    "test_name_sim = [0]*len(train_data)\n",
    "test_desc_sim = [0]*len(train_data)\n",
    "test_name_sim = test_data.apply(lambda x: jaccard_distance(x[\"amazon_name\"],x[\"google_name\"]), axis=1)\n",
    "test_desc_sim = test_data.apply(lambda x: jaccard_distance(x[\"amazon_description\"],x[\"google_description\"]), axis=1)"
   ]
  },
  {
   "cell_type": "code",
   "execution_count": 8,
   "metadata": {},
   "outputs": [],
   "source": [
    "transformed_train_1 = pd.DataFrame({\"name_similarity\":train_name_sim,\n",
    "                                    \"description_similarity\":train_desc_sim,\n",
    "                                    \"price_diff\":train_data[\"price_diff\"],\n",
    "                                    \"price_nan_ind\":train_data[\"price_nan_indicator\"],\n",
    "                                    \"label\":train_data[\"label\"]})\n",
    "transformed_test_1 = pd.DataFrame({\"name_similarity\":test_name_sim,\n",
    "                                   \"description_similarity\":test_desc_sim,\n",
    "                                   \"price_diff\":test_data[\"price_diff\"],\n",
    "                                   \"price_nan_ind\":test_data[\"price_nan_indicator\"],\n",
    "                                   \"label\":test_data[\"label\"]})"
   ]
  },
  {
   "cell_type": "code",
   "execution_count": 9,
   "metadata": {},
   "outputs": [
    {
     "data": {
      "text/html": [
       "<div>\n",
       "<style scoped>\n",
       "    .dataframe tbody tr th:only-of-type {\n",
       "        vertical-align: middle;\n",
       "    }\n",
       "\n",
       "    .dataframe tbody tr th {\n",
       "        vertical-align: top;\n",
       "    }\n",
       "\n",
       "    .dataframe thead th {\n",
       "        text-align: right;\n",
       "    }\n",
       "</style>\n",
       "<table border=\"1\" class=\"dataframe\">\n",
       "  <thead>\n",
       "    <tr style=\"text-align: right;\">\n",
       "      <th></th>\n",
       "      <th>name_similarity</th>\n",
       "      <th>description_similarity</th>\n",
       "      <th>price_diff</th>\n",
       "      <th>price_nan_ind</th>\n",
       "      <th>label</th>\n",
       "    </tr>\n",
       "  </thead>\n",
       "  <tbody>\n",
       "    <tr>\n",
       "      <td>0</td>\n",
       "      <td>0.142857</td>\n",
       "      <td>0.04878</td>\n",
       "      <td>0.266756</td>\n",
       "      <td>0</td>\n",
       "      <td>0</td>\n",
       "    </tr>\n",
       "    <tr>\n",
       "      <td>1</td>\n",
       "      <td>0.200000</td>\n",
       "      <td>0.00000</td>\n",
       "      <td>0.634878</td>\n",
       "      <td>0</td>\n",
       "      <td>0</td>\n",
       "    </tr>\n",
       "  </tbody>\n",
       "</table>\n",
       "</div>"
      ],
      "text/plain": [
       "   name_similarity  description_similarity  price_diff  price_nan_ind  label\n",
       "0         0.142857                 0.04878    0.266756              0      0\n",
       "1         0.200000                 0.00000    0.634878              0      0"
      ]
     },
     "execution_count": 9,
     "metadata": {},
     "output_type": "execute_result"
    }
   ],
   "source": [
    "transformed_train_1.head(2)"
   ]
  },
  {
   "cell_type": "code",
   "execution_count": 10,
   "metadata": {},
   "outputs": [
    {
     "data": {
      "text/html": [
       "<div>\n",
       "<style scoped>\n",
       "    .dataframe tbody tr th:only-of-type {\n",
       "        vertical-align: middle;\n",
       "    }\n",
       "\n",
       "    .dataframe tbody tr th {\n",
       "        vertical-align: top;\n",
       "    }\n",
       "\n",
       "    .dataframe thead th {\n",
       "        text-align: right;\n",
       "    }\n",
       "</style>\n",
       "<table border=\"1\" class=\"dataframe\">\n",
       "  <thead>\n",
       "    <tr style=\"text-align: right;\">\n",
       "      <th></th>\n",
       "      <th>name_similarity</th>\n",
       "      <th>description_similarity</th>\n",
       "      <th>price_diff</th>\n",
       "      <th>price_nan_ind</th>\n",
       "      <th>label</th>\n",
       "    </tr>\n",
       "  </thead>\n",
       "  <tbody>\n",
       "    <tr>\n",
       "      <td>0</td>\n",
       "      <td>1.000000</td>\n",
       "      <td>0.000000</td>\n",
       "      <td>1.00000</td>\n",
       "      <td>1</td>\n",
       "      <td>1</td>\n",
       "    </tr>\n",
       "    <tr>\n",
       "      <td>1</td>\n",
       "      <td>0.666667</td>\n",
       "      <td>0.178571</td>\n",
       "      <td>0.20008</td>\n",
       "      <td>0</td>\n",
       "      <td>1</td>\n",
       "    </tr>\n",
       "  </tbody>\n",
       "</table>\n",
       "</div>"
      ],
      "text/plain": [
       "   name_similarity  description_similarity  price_diff  price_nan_ind  label\n",
       "0         1.000000                0.000000     1.00000              1      1\n",
       "1         0.666667                0.178571     0.20008              0      1"
      ]
     },
     "execution_count": 10,
     "metadata": {},
     "output_type": "execute_result"
    }
   ],
   "source": [
    "transformed_test_1.head(2)"
   ]
  },
  {
   "cell_type": "code",
   "execution_count": 11,
   "metadata": {},
   "outputs": [],
   "source": [
    "transformed_train_1.to_csv(\"numeric_train.csv\",index=False)\n",
    "transformed_test_1.to_csv(\"numeric_test.csv\",index=False)"
   ]
  },
  {
   "cell_type": "markdown",
   "metadata": {},
   "source": [
    "## Data Info"
   ]
  },
  {
   "cell_type": "code",
   "execution_count": 12,
   "metadata": {},
   "outputs": [
    {
     "name": "stdout",
     "output_type": "stream",
     "text": [
      "0    60153\n",
      "1     1045\n",
      "Name: label, dtype: int64\n",
      "The percentage of matching is 1.71 %.\n",
      "The percentage of non-matching is 98.29 %.\n"
     ]
    }
   ],
   "source": [
    "print(transformed_train_1[\"label\"].value_counts())\n",
    "\n",
    "pos = len(transformed_train_1[transformed_train_1[\"label\"]==1])\n",
    "neg = len(transformed_train_1[transformed_train_1[\"label\"]==0])\n",
    "print(\"The percentage of matching is %s\"%round((pos/(pos+neg)*100),2),\"%.\")\n",
    "print(\"The percentage of non-matching is %s\"%round((neg/(pos+neg)*100),2),\"%.\")"
   ]
  },
  {
   "cell_type": "markdown",
   "metadata": {},
   "source": [
    "## Logistic Regression Model"
   ]
  },
  {
   "cell_type": "code",
   "execution_count": 13,
   "metadata": {},
   "outputs": [],
   "source": [
    "def LogReg(reg_coef=1):\n",
    "    logreg = LogisticRegression(C=reg_coef)\n",
    "    return logreg\n",
    "\n",
    "def lambda_search(X_train, y_train, X_val, y_val):\n",
    "    lambdas = [1, 10, 100, 1000, 10000]\n",
    "    f1 = []\n",
    "    recall = []\n",
    "    for i in lambdas:\n",
    "        logreg = LogReg(i)\n",
    "        logreg.fit(X_train, y_train)\n",
    "        y_pred = logreg.predict(X_val)\n",
    "        f1.append(f1_score(y_val, y_pred))\n",
    "        recall.append(recall_score(y_val, y_pred))\n",
    "    print(lambdas)    \n",
    "    print(f1)\n",
    "    print(recall)\n",
    "    # x = 1/np.asarray(lambdas)\n",
    "    plt.plot(lambdas,f1)\n",
    "    plt.plot(lambdas, recall)\n",
    "\n",
    "def pr_curve(logreg, X_test, y_test):\n",
    "    # predict probabilities\n",
    "    lr_probs = logreg.predict_proba(X_test)\n",
    "    # keep probabilities for the positive outcome only\n",
    "    lr_probs = lr_probs[:, 1]\n",
    "    # predict class values\n",
    "    y_hat = logreg.predict(X_test)\n",
    "    lr_precision, lr_recall, threds = precision_recall_curve(y_test, lr_probs)\n",
    "    lr_f1, lr_auc = f1_score(y_test, y_hat), auc(lr_recall, lr_precision)\n",
    "    # summarize scores\n",
    "    print('Logistic: f1=%.3f auc=%.3f' % (lr_f1, lr_auc))\n",
    "    # plot the precision-recall curves\n",
    "    no_skill = len(y_test[y_test==1]) / len(y_test)\n",
    "    plt.plot([0, 1], [no_skill, no_skill], linestyle='--', label='No Skill')\n",
    "    plt.plot(lr_recall, lr_precision, marker='.', label='Logistic Regression')\n",
    "    # axis labels\n",
    "    plt.xlabel('Recall')\n",
    "    plt.ylabel('Precision')\n",
    "    # show the legend\n",
    "    plt.legend()\n",
    "    # show the plot\n",
    "    plt.show()\n",
    "    return lr_precision, lr_recall\n",
    "\n",
    "def roc_plot(logreg, X_test, y_test):\n",
    "    # predict probabilities\n",
    "    lr_probs = logreg.predict_proba(X_test)\n",
    "    # keep probabilities for the positive outcome only\n",
    "    y_probs = lr_probs[:, 1]\n",
    "    # predict class values\n",
    "    y_hat = logreg.predict(X_test)\n",
    "    fpr, tpr, thresholds = roc_curve(y_test, y_probs)\n",
    "    plt.plot([0,1],[0,1], 'k--')\n",
    "    plt.plot(fpr, tpr, label=\"Logistic Regression\")\n",
    "    plt.xlabel(\"False Positive Rate\")\n",
    "    plt.ylabel(\"True Positive Rate\")\n",
    "    plt.title(\"Logistic Regression ROC Curve\")\n",
    "    plt.legend()\n",
    "    plt.show()\n",
    "    return tpr, fpr\n",
    "\n",
    "def test_model(logreg, X_test, y_test):\n",
    "    \n",
    "    y_pred = logreg.predict(X_test)\n",
    "    print(\"accuracy = %s\"%logreg.score(X_test, y_test))\n",
    "    print(\"f1 socre = %s\"%f1_score(y_test, y_pred))\n",
    "    print(\"recall__ = %s\"%recall_score(y_test, y_pred))\n",
    "    cm = confusion_matrix(y_test, y_pred)\n",
    "    print(\"confusion matrix :\")\n",
    "    print(cm)\n",
    "    print(\"classification report :\")\n",
    "    print(classification_report(y_test,y_pred))\n",
    "    # PR curve\n",
    "    precision, recall = pr_curve(logreg, X_test, y_test)\n",
    "    return precision, recall"
   ]
  },
  {
   "cell_type": "markdown",
   "metadata": {},
   "source": [
    "### Imbalance Original Data"
   ]
  },
  {
   "cell_type": "code",
   "execution_count": 14,
   "metadata": {},
   "outputs": [
    {
     "name": "stdout",
     "output_type": "stream",
     "text": [
      "0    48107\n",
      "1      851\n",
      "Name: label, dtype: int64\n",
      "0    12046\n",
      "1      194\n",
      "Name: label, dtype: int64\n",
      "[1, 10, 100, 1000, 10000]\n",
      "[0.37800687285223367, 0.40939597315436244, 0.40939597315436244, 0.40939597315436244, 0.40939597315436244]\n",
      "[0.28350515463917525, 0.31443298969072164, 0.31443298969072164, 0.31443298969072164, 0.31443298969072164]\n"
     ]
    },
    {
     "data": {
      "image/png": "[encoded data removed]",
      "text/plain": [
       "<Figure size 432x288 with 1 Axes>"
      ]
     },
     "metadata": {
      "needs_background": "light"
     },
     "output_type": "display_data"
    }
   ],
   "source": [
    "# Split the train and val set\n",
    "X = transformed_train_1.iloc[:,0:4]\n",
    "y = transformed_train_1.iloc[:,4]\n",
    "X_train, X_val, y_train, y_val = train_test_split(X, y, test_size = 0.2) # random_state = \n",
    "\n",
    "print(y_train.value_counts())\n",
    "print(y_val.value_counts())\n",
    "\n",
    "X_test = transformed_test_1.iloc[:,0:4]\n",
    "y_test = transformed_test_1.iloc[:,4]\n",
    "\n",
    "# Shuffle data\n",
    "X, y = shuffle(X, y)\n",
    "X_train, y_train = shuffle(X_train, y_train)\n",
    "X_val, y_val = shuffle(X_val, y_val)\n",
    "X_test, y_test = shuffle(X_test, y_test)\n",
    "\n",
    "# Select Regularization Coefficient\n",
    "lambda_search(X_train, y_train, X_val, y_val)"
   ]
  },
  {
   "cell_type": "code",
   "execution_count": 15,
   "metadata": {},
   "outputs": [
    {
     "name": "stdout",
     "output_type": "stream",
     "text": [
      "accuracy = 0.9572698594780614\n",
      "f1 socre = 0.5329153605015674\n",
      "recall__ = 0.36637931034482757\n",
      "confusion matrix :\n",
      "[[3253    2]\n",
      " [ 147   85]]\n",
      "classification report :\n",
      "              precision    recall  f1-score   support\n",
      "\n",
      "           0       0.96      1.00      0.98      3255\n",
      "           1       0.98      0.37      0.53       232\n",
      "\n",
      "    accuracy                           0.96      3487\n",
      "   macro avg       0.97      0.68      0.76      3487\n",
      "weighted avg       0.96      0.96      0.95      3487\n",
      "\n",
      "Logistic: f1=0.533 auc=0.801\n"
     ]
    },
    {
     "data": {
      "image/png": "[encoded data removed]",
      "text/plain": [
       "<Figure size 432x288 with 1 Axes>"
      ]
     },
     "metadata": {
      "needs_background": "light"
     },
     "output_type": "display_data"
    }
   ],
   "source": [
    "# build a logistic regression model based on train and val data\n",
    "logreg_imb = LogReg(10)\n",
    "logreg_imb.fit(X, y)\n",
    "\n",
    "# Test model on test set\n",
    "lr_precision, lr_recall = test_model(logreg_imb, X_test, y_test)"
   ]
  },
  {
   "cell_type": "code",
   "execution_count": 20,
   "metadata": {},
   "outputs": [
    {
     "data": {
      "image/png": "[encoded data removed]",
      "text/plain": [
       "<Figure size 432x288 with 1 Axes>"
      ]
     },
     "metadata": {
      "needs_background": "light"
     },
     "output_type": "display_data"
    }
   ],
   "source": [
    "# ROC Curve\n",
    "tpr, fpr = roc_plot(logreg_imb, X_test, y_test)"
   ]
  },
  {
   "cell_type": "markdown",
   "metadata": {},
   "source": [
    "### Resampling to Balance Data"
   ]
  },
  {
   "cell_type": "code",
   "execution_count": 21,
   "metadata": {},
   "outputs": [
    {
     "name": "stdout",
     "output_type": "stream",
     "text": [
      "No. of negatives :  60153\n",
      "No. of positives :  1045\n",
      "No. of positives after resampling:  60610\n"
     ]
    },
    {
     "data": {
      "text/html": [
       "<div>\n",
       "<style scoped>\n",
       "    .dataframe tbody tr th:only-of-type {\n",
       "        vertical-align: middle;\n",
       "    }\n",
       "\n",
       "    .dataframe tbody tr th {\n",
       "        vertical-align: top;\n",
       "    }\n",
       "\n",
       "    .dataframe thead th {\n",
       "        text-align: right;\n",
       "    }\n",
       "</style>\n",
       "<table border=\"1\" class=\"dataframe\">\n",
       "  <thead>\n",
       "    <tr style=\"text-align: right;\">\n",
       "      <th></th>\n",
       "      <th>name_similarity</th>\n",
       "      <th>description_similarity</th>\n",
       "      <th>price_diff</th>\n",
       "      <th>price_nan_ind</th>\n",
       "      <th>label</th>\n",
       "    </tr>\n",
       "  </thead>\n",
       "  <tbody>\n",
       "    <tr>\n",
       "      <td>27863</td>\n",
       "      <td>0.333333</td>\n",
       "      <td>0.081081</td>\n",
       "      <td>0.216216</td>\n",
       "      <td>0</td>\n",
       "      <td>1</td>\n",
       "    </tr>\n",
       "    <tr>\n",
       "      <td>90222</td>\n",
       "      <td>0.142857</td>\n",
       "      <td>0.000000</td>\n",
       "      <td>0.367456</td>\n",
       "      <td>0</td>\n",
       "      <td>0</td>\n",
       "    </tr>\n",
       "  </tbody>\n",
       "</table>\n",
       "</div>"
      ],
      "text/plain": [
       "       name_similarity  description_similarity  price_diff  price_nan_ind  \\\n",
       "27863         0.333333                0.081081    0.216216              0   \n",
       "90222         0.142857                0.000000    0.367456              0   \n",
       "\n",
       "       label  \n",
       "27863      1  \n",
       "90222      0  "
      ]
     },
     "execution_count": 21,
     "metadata": {},
     "output_type": "execute_result"
    }
   ],
   "source": [
    "negative_index = np.squeeze(np.where(transformed_train_1[\"label\"] == 0))\n",
    "print(\"No. of negatives : \",len(negative_index))\n",
    "negative_samples = transformed_train_1.iloc[negative_index.tolist(),:]\n",
    "\n",
    "positive_index = np.squeeze(np.where(transformed_train_1[\"label\"] == 1))\n",
    "print(\"No. of positives : \",len(positive_index))\n",
    "positive_samples = transformed_train_1.iloc[positive_index.tolist(),:]\n",
    "positive_samples = positive_samples.append([positive_samples]*57, ignore_index=True)\n",
    "print(\"No. of positives after resampling: \",len(positive_samples))\n",
    "\n",
    "data_samples = positive_samples.append([negative_samples],ignore_index = True)\n",
    "data_samples = data_samples.sample(frac=1)\n",
    "data_samples.head(2)"
   ]
  },
  {
   "cell_type": "code",
   "execution_count": 22,
   "metadata": {},
   "outputs": [
    {
     "name": "stdout",
     "output_type": "stream",
     "text": [
      "[1, 10, 100, 1000, 10000]\n",
      "[0.9302612631145856, 0.9308062327837849, 0.9308445029191679, 0.9308445029191679, 0.9308445029191679]\n",
      "[0.9227064968984655, 0.9239307868103167, 0.9239307868103167, 0.9239307868103167, 0.9239307868103167]\n"
     ]
    },
    {
     "data": {
      "image/png": "[encoded data removed]",
      "text/plain": [
       "<Figure size 432x288 with 1 Axes>"
      ]
     },
     "metadata": {
      "needs_background": "light"
     },
     "output_type": "display_data"
    }
   ],
   "source": [
    "X_re = data_samples.iloc[:,0:4]\n",
    "y_re = data_samples.iloc[:,4]\n",
    "X_train_re, X_val_re, y_train_re, y_val_re = train_test_split(X_re, y_re, test_size = 0.2)\n",
    "\n",
    "# Shuffle data\n",
    "X_re, y_re = shuffle(X_re, y_re)\n",
    "X_train_re, y_train_re = shuffle(X_train_re, y_train_re)\n",
    "X_val_re, y_val_re = shuffle(X_val_re, y_val_re)\n",
    "X_test, y_test = shuffle(X_test, y_test)\n",
    "\n",
    "# Select Regularization Coefficient\n",
    "lambda_search(X_train_re, y_train_re, X_val_re, y_val_re)"
   ]
  },
  {
   "cell_type": "code",
   "execution_count": 23,
   "metadata": {},
   "outputs": [
    {
     "name": "stdout",
     "output_type": "stream",
     "text": [
      "accuracy = 0.9392027530828793\n",
      "f1 socre = 0.6591639871382636\n",
      "recall__ = 0.8836206896551724\n",
      "confusion matrix :\n",
      "[[3070  185]\n",
      " [  27  205]]\n",
      "classification report :\n",
      "              precision    recall  f1-score   support\n",
      "\n",
      "           0       0.99      0.94      0.97      3255\n",
      "           1       0.53      0.88      0.66       232\n",
      "\n",
      "    accuracy                           0.94      3487\n",
      "   macro avg       0.76      0.91      0.81      3487\n",
      "weighted avg       0.96      0.94      0.95      3487\n",
      "\n",
      "Logistic: f1=0.659 auc=0.799\n"
     ]
    },
    {
     "data": {
      "image/png": "[encoded data removed]",
      "text/plain": [
       "<Figure size 432x288 with 1 Axes>"
      ]
     },
     "metadata": {
      "needs_background": "light"
     },
     "output_type": "display_data"
    }
   ],
   "source": [
    "# Build model with reg coef 0.01\n",
    "logreg_re = LogReg(10)\n",
    "# Train model on the train and val set\n",
    "logreg_re.fit(X_re, y_re)\n",
    "\n",
    "# Test model\n",
    "lr_precision_re, lr_recall_re = test_model(logreg_re, X_test, y_test)"
   ]
  },
  {
   "cell_type": "markdown",
   "metadata": {},
   "source": [
    "### SMOTE Oversampling"
   ]
  },
  {
   "cell_type": "code",
   "execution_count": 25,
   "metadata": {},
   "outputs": [],
   "source": [
    "from imblearn.over_sampling import SMOTE\n",
    "from collections import Counter"
   ]
  },
  {
   "cell_type": "code",
   "execution_count": 26,
   "metadata": {},
   "outputs": [
    {
     "name": "stdout",
     "output_type": "stream",
     "text": [
      "Counter({0: 48107, 1: 851})\n",
      "Counter({0: 60153, 1: 60153})\n"
     ]
    }
   ],
   "source": [
    "print(Counter(y_train))\n",
    "smote = SMOTE(random_state=42)\n",
    "X_over, y_over = smote.fit_resample(X, y) \n",
    "print(Counter(y_over))"
   ]
  },
  {
   "cell_type": "code",
   "execution_count": 27,
   "metadata": {},
   "outputs": [
    {
     "name": "stdout",
     "output_type": "stream",
     "text": [
      "[1, 10, 100, 1000, 10000]\n",
      "[0.926468141740143, 0.9269469044946156, 0.9269469044946156, 0.9269469044946156, 0.9269469044946156]\n",
      "[0.919356170037144, 0.9200990507635163, 0.9200990507635163, 0.9200990507635163, 0.9200990507635163]\n"
     ]
    },
    {
     "data": {
      "image/png": "[encoded data removed]",
      "text/plain": [
       "<Figure size 432x288 with 1 Axes>"
      ]
     },
     "metadata": {
      "needs_background": "light"
     },
     "output_type": "display_data"
    }
   ],
   "source": [
    "# Split train and val set\n",
    "X_train_over, X_val_over, y_train_over, y_val_over = train_test_split(X_over, y_over, test_size = 0.2, random_state=0)\n",
    "\n",
    "# Shuffle data\n",
    "X_over, y_over = shuffle(X_over, y_over)\n",
    "X_train_over, y_train_over = shuffle(X_train_over, y_train_over)\n",
    "X_val_over, y_val_over = shuffle(X_val_over, y_val_over)\n",
    "\n",
    "# Select Regularization Coefficient\n",
    "lambda_search(X_train_over, y_train_over, X_val_over, y_val_over)"
   ]
  },
  {
   "cell_type": "code",
   "execution_count": 28,
   "metadata": {},
   "outputs": [
    {
     "name": "stdout",
     "output_type": "stream",
     "text": [
      "accuracy = 0.9389159736162891\n",
      "f1 socre = 0.6570048309178744\n",
      "recall__ = 0.8793103448275862\n",
      "confusion matrix :\n",
      "[[3070  185]\n",
      " [  28  204]]\n",
      "classification report :\n",
      "              precision    recall  f1-score   support\n",
      "\n",
      "           0       0.99      0.94      0.97      3255\n",
      "           1       0.52      0.88      0.66       232\n",
      "\n",
      "    accuracy                           0.94      3487\n",
      "   macro avg       0.76      0.91      0.81      3487\n",
      "weighted avg       0.96      0.94      0.95      3487\n",
      "\n",
      "Logistic: f1=0.657 auc=0.799\n"
     ]
    },
    {
     "data": {
      "image/png": "[encoded data removed]",
      "text/plain": [
       "<Figure size 432x288 with 1 Axes>"
      ]
     },
     "metadata": {
      "needs_background": "light"
     },
     "output_type": "display_data"
    }
   ],
   "source": [
    "# Build model with reg coef 0.01\n",
    "logreg_over = LogReg(10)\n",
    "# Train model on the train and val set\n",
    "logreg_over.fit(X_over, y_over)\n",
    "\n",
    "# Test model\n",
    "lr_precision_over, lr_recall_over = test_model(logreg_over, X_test, y_test)"
   ]
  },
  {
   "cell_type": "code",
   "execution_count": 29,
   "metadata": {},
   "outputs": [],
   "source": [
    "import pickle\n",
    "\n",
    "filename = 'LR_model.sav'\n",
    "pickle.dump(logreg_re, open(filename, 'wb'))"
   ]
  },
  {
   "cell_type": "code",
   "execution_count": null,
   "metadata": {},
   "outputs": [],
   "source": []
  }
 ],
 "metadata": {
  "kernelspec": {
   "display_name": "Python 3",
   "language": "python",
   "name": "python3"
  },
  "language_info": {
   "codemirror_mode": {
    "name": "ipython",
    "version": 3
   },
   "file_extension": ".py",
   "mimetype": "text/x-python",
   "name": "python",
   "nbconvert_exporter": "python",
   "pygments_lexer": "ipython3",
   "version": "3.7.4"
  }
 },
 "nbformat": 4,
 "nbformat_minor": 2
}
